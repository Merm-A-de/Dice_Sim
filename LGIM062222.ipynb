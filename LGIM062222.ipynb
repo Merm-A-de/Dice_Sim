{
  "cells": [
    {
      "cell_type": "markdown",
      "metadata": {
        "id": "view-in-github",
        "colab_type": "text"
      },
      "source": [
        "<a href=\"https://colab.research.google.com/github/Merm-A-de/Dice_Sim/blob/main/LGIM062222.ipynb\" target=\"_parent\"><img src=\"https://colab.research.google.com/assets/colab-badge.svg\" alt=\"Open In Colab\"/></a>"
      ]
    },
    {
      "cell_type": "code",
      "source": [
        "#greater than less than with exception handling if the input isn't an integer\n",
        "\n",
        "def try_exception(n):\n",
        "  bar = 13\n",
        "  if type(n) != int:\n",
        "    try:\n",
        "      print(n, \"is not an integer\")\n",
        "    except:\n",
        "      print(\"didn't work\")\n",
        "  elif int(n) >= bar:\n",
        "    return(\"Less Than\")\n",
        "  elif int(n) <= bar:\n",
        "    return(\"Greater Than\")\n",
        "  else:\n",
        "    print(\"\")\n",
        "    #except n as exception:\n",
        "     # print(exception)\n",
        "\n",
        "try_exception(\"n\")"
      ],
      "metadata": {
        "id": "4-I8XkfYgW5M",
        "outputId": "bbb8f3a5-70ad-4fe5-8ece-56cce970812e",
        "colab": {
          "base_uri": "https://localhost:8080/"
        }
      },
      "execution_count": 21,
      "outputs": [
        {
          "output_type": "stream",
          "name": "stdout",
          "text": [
            "n is not an integer\n"
          ]
        }
      ]
    },
    {
      "cell_type": "code",
      "source": [
        "# Recipricol function\n",
        "\n",
        "def recipricol(numb):\n",
        "  return(round(1/numb,4))\n",
        "\n",
        "recipricol(7)"
      ],
      "metadata": {
        "id": "2QYX8CGYgy4M",
        "outputId": "98517501-f406-4c1d-83d4-3e6a41975506",
        "colab": {
          "base_uri": "https://localhost:8080/"
        }
      },
      "execution_count": 22,
      "outputs": [
        {
          "output_type": "execute_result",
          "data": {
            "text/plain": [
              "0.1429"
            ]
          },
          "metadata": {},
          "execution_count": 22
        }
      ]
    },
    {
      "cell_type": "code",
      "source": [
        "# Return output of a range except certain numbers\n",
        "\n",
        "def return_excepts(n, m):\n",
        "  for i in range(n, m):\n",
        "    print(i)\n",
        "    \n",
        "\n",
        "return_excepts(0,3)"
      ],
      "metadata": {
        "id": "4D1t12cRraYD",
        "outputId": "0eec35a1-88be-4470-845c-3bb55d346f83",
        "colab": {
          "base_uri": "https://localhost:8080/"
        }
      },
      "execution_count": 27,
      "outputs": [
        {
          "output_type": "stream",
          "name": "stdout",
          "text": [
            "0\n",
            "1\n",
            "2\n"
          ]
        }
      ]
    },
    {
      "cell_type": "code",
      "source": [
        "# Return output of a range except certain numbers\n",
        "\n",
        "def return_excepts(n, m):\n",
        "  for i in range(n, m):\n",
        "    return(i)\n",
        "    #when i change the code from the above module to instead return than print i\n",
        "    # only the first int in the list is output\n",
        "\n",
        "    # how to RETURN with ALL values\n",
        "\n",
        "return_excepts(0,3)"
      ],
      "metadata": {
        "id": "RmsFZ_Kur1mI",
        "outputId": "9cad9ad0-8ad7-40df-a5e1-69df4ddaab7e",
        "colab": {
          "base_uri": "https://localhost:8080/"
        }
      },
      "execution_count": 28,
      "outputs": [
        {
          "output_type": "execute_result",
          "data": {
            "text/plain": [
              "0"
            ]
          },
          "metadata": {},
          "execution_count": 28
        }
      ]
    },
    {
      "cell_type": "code",
      "source": [
        " # Return output of a range except certain numbers\n",
        "\n",
        "def return_excepts(n, m):\n",
        "  value = list(range(n, m))  \n",
        "  return value\n",
        "  # able to return all in a list\n",
        "return_excepts(0,3)\n"
      ],
      "metadata": {
        "id": "lzh4zE7Hr1ob",
        "outputId": "774ddb07-06fe-4be8-ec77-52707bf8ad29",
        "colab": {
          "base_uri": "https://localhost:8080/"
        }
      },
      "execution_count": 34,
      "outputs": [
        {
          "output_type": "execute_result",
          "data": {
            "text/plain": [
              "[0, 1, 2]"
            ]
          },
          "metadata": {},
          "execution_count": 34
        }
      ]
    },
    {
      "cell_type": "code",
      "source": [
        " # Return output of a range except certain numbers\n",
        "\n",
        "def return_excepts(n, m):\n",
        "  value = dict(range(n, m))  \n",
        "  return value\n",
        "  # not able to return all in a dict \n",
        "return_excepts(0,3)"
      ],
      "metadata": {
        "id": "4hqdvVNRsbgO",
        "outputId": "c478be18-2d55-40ec-a6e6-350f50c6d240",
        "colab": {
          "base_uri": "https://localhost:8080/",
          "height": 322
        }
      },
      "execution_count": 35,
      "outputs": [
        {
          "output_type": "error",
          "ename": "TypeError",
          "evalue": "ignored",
          "traceback": [
            "\u001b[0;31m---------------------------------------------------------------------------\u001b[0m",
            "\u001b[0;31mTypeError\u001b[0m                                 Traceback (most recent call last)",
            "\u001b[0;32m<ipython-input-35-bb98c534f1ce>\u001b[0m in \u001b[0;36m<module>\u001b[0;34m()\u001b[0m\n\u001b[1;32m      5\u001b[0m  \u001b[0;32mreturn\u001b[0m \u001b[0mvalue\u001b[0m\u001b[0;34m\u001b[0m\u001b[0;34m\u001b[0m\u001b[0m\n\u001b[1;32m      6\u001b[0m  \u001b[0;31m# able to return all in a list\u001b[0m\u001b[0;34m\u001b[0m\u001b[0;34m\u001b[0m\u001b[0;34m\u001b[0m\u001b[0m\n\u001b[0;32m----> 7\u001b[0;31m \u001b[0mreturn_excepts\u001b[0m\u001b[0;34m(\u001b[0m\u001b[0;36m0\u001b[0m\u001b[0;34m,\u001b[0m\u001b[0;36m3\u001b[0m\u001b[0;34m)\u001b[0m\u001b[0;34m\u001b[0m\u001b[0;34m\u001b[0m\u001b[0m\n\u001b[0m",
            "\u001b[0;32m<ipython-input-35-bb98c534f1ce>\u001b[0m in \u001b[0;36mreturn_excepts\u001b[0;34m(n, m)\u001b[0m\n\u001b[1;32m      2\u001b[0m \u001b[0;34m\u001b[0m\u001b[0m\n\u001b[1;32m      3\u001b[0m \u001b[0;32mdef\u001b[0m \u001b[0mreturn_excepts\u001b[0m\u001b[0;34m(\u001b[0m\u001b[0mn\u001b[0m\u001b[0;34m,\u001b[0m \u001b[0mm\u001b[0m\u001b[0;34m)\u001b[0m\u001b[0;34m:\u001b[0m\u001b[0;34m\u001b[0m\u001b[0;34m\u001b[0m\u001b[0m\n\u001b[0;32m----> 4\u001b[0;31m  \u001b[0mvalue\u001b[0m \u001b[0;34m=\u001b[0m \u001b[0mdict\u001b[0m\u001b[0;34m(\u001b[0m\u001b[0mrange\u001b[0m\u001b[0;34m(\u001b[0m\u001b[0mn\u001b[0m\u001b[0;34m,\u001b[0m \u001b[0mm\u001b[0m\u001b[0;34m)\u001b[0m\u001b[0;34m)\u001b[0m\u001b[0;34m\u001b[0m\u001b[0;34m\u001b[0m\u001b[0m\n\u001b[0m\u001b[1;32m      5\u001b[0m  \u001b[0;32mreturn\u001b[0m \u001b[0mvalue\u001b[0m\u001b[0;34m\u001b[0m\u001b[0;34m\u001b[0m\u001b[0m\n\u001b[1;32m      6\u001b[0m  \u001b[0;31m# able to return all in a list\u001b[0m\u001b[0;34m\u001b[0m\u001b[0;34m\u001b[0m\u001b[0;34m\u001b[0m\u001b[0m\n",
            "\u001b[0;31mTypeError\u001b[0m: cannot convert dictionary update sequence element #0 to a sequence"
          ]
        }
      ]
    },
    {
      "cell_type": "code",
      "source": [
        " # Return output of a range except certain numbers\n",
        "\n",
        "def return_excepts(n, m):\n",
        "  value = tuple(range(n, m))  \n",
        "  return value\n",
        "  # able to return all in a list\n",
        "return_excepts(0,3)"
      ],
      "metadata": {
        "id": "dCTwPfJ8raak",
        "outputId": "b81206b8-c03d-4126-ba6c-8620fc5a1810",
        "colab": {
          "base_uri": "https://localhost:8080/"
        }
      },
      "execution_count": 36,
      "outputs": [
        {
          "output_type": "execute_result",
          "data": {
            "text/plain": [
              "(0, 1, 2)"
            ]
          },
          "metadata": {},
          "execution_count": 36
        }
      ]
    },
    {
      "cell_type": "code",
      "source": [
        " # Return output of a range except certain numbers\n",
        "\n",
        "def return_excepts(n, m):\n",
        "  value = tuple(range(n, m))  \n",
        "  for i in value:\n",
        "    return i\n",
        "  # able to return all in a list\n",
        "return_excepts(0,3)"
      ],
      "metadata": {
        "id": "pxH1gh09shcs",
        "outputId": "ea288f1d-864d-41e4-9c8f-d19ad01a6718",
        "colab": {
          "base_uri": "https://localhost:8080/"
        }
      },
      "execution_count": 41,
      "outputs": [
        {
          "output_type": "execute_result",
          "data": {
            "text/plain": [
              "0"
            ]
          },
          "metadata": {},
          "execution_count": 41
        }
      ]
    },
    {
      "cell_type": "code",
      "source": [
        " # Return output of a range except certain numbers\n",
        "\n",
        "def return_excepts(n, m):\n",
        "  value = list(range(n, m))  \n",
        "  for i in value:\n",
        "    return i\n",
        "  # able to return all in a list\n",
        "return_excepts(0,3)"
      ],
      "metadata": {
        "id": "qyn-Mb96s4gx",
        "outputId": "a25ff74a-371b-4401-f25f-34e90506c9fb",
        "colab": {
          "base_uri": "https://localhost:8080/"
        }
      },
      "execution_count": 42,
      "outputs": [
        {
          "output_type": "execute_result",
          "data": {
            "text/plain": [
              "0"
            ]
          },
          "metadata": {},
          "execution_count": 42
        }
      ]
    },
    {
      "cell_type": "code",
      "source": [
        " # Return output of a range except certain numbers\n",
        "\n",
        "def return_excepts(n, m):\n",
        "  value = list(range(n, m))  \n",
        "  for i in value:\n",
        "    print(i)\n",
        "  # able to return all in a list\n",
        "return_excepts(0,3)"
      ],
      "metadata": {
        "id": "PhWI-YZpsyiz",
        "outputId": "4c045695-7064-4aa8-9f7e-f91297034f15",
        "colab": {
          "base_uri": "https://localhost:8080/"
        }
      },
      "execution_count": 40,
      "outputs": [
        {
          "output_type": "stream",
          "name": "stdout",
          "text": [
            "0\n",
            "1\n",
            "2\n"
          ]
        }
      ]
    },
    {
      "cell_type": "code",
      "source": [
        "#returning all numbers in a range except those that are divisible by 3\n",
        "\n",
        "def return_no_thirds(n, m):\n",
        "  rangy = list(range(n, m))\n",
        "  for i in rangy:\n",
        "    if i %3 == 0:\n",
        "      continue\n",
        "    else:\n",
        "      print(i)\n",
        "\n",
        "\n",
        "return_no_thirds(0,48)"
      ],
      "metadata": {
        "id": "KmZVkphLshfN",
        "outputId": "d84a2936-50a4-4e7a-e552-e2eb7dc38c53",
        "colab": {
          "base_uri": "https://localhost:8080/"
        }
      },
      "execution_count": 61,
      "outputs": [
        {
          "output_type": "stream",
          "name": "stdout",
          "text": [
            "1\n",
            "2\n",
            "4\n",
            "5\n",
            "7\n",
            "8\n",
            "10\n",
            "11\n",
            "13\n",
            "14\n",
            "16\n",
            "17\n",
            "19\n",
            "20\n",
            "22\n",
            "23\n",
            "25\n",
            "26\n",
            "28\n",
            "29\n",
            "31\n",
            "32\n",
            "34\n",
            "35\n",
            "37\n",
            "38\n",
            "40\n",
            "41\n",
            "43\n",
            "44\n",
            "46\n",
            "47\n"
          ]
        }
      ]
    },
    {
      "cell_type": "code",
      "source": [
        "import random\n",
        "from random import choice, choices, sample\n"
      ],
      "metadata": {
        "id": "U5URhMpp2JQX"
      },
      "execution_count": 65,
      "outputs": []
    },
    {
      "cell_type": "code",
      "source": [
        "def roulette_colors(t):\n",
        "  red = [1, 3, 5, 7,\n",
        "            9, 12, 14, 16, 18, 19, 21, \n",
        "            23, 25, 27, \n",
        "            30, 32, 34, 36,]\n",
        "  possib = [1, 2, 3, 4, 5, 6, 7, 8,\n",
        "            9, 10, 11, 12, 13, 14, 15,\n",
        "            16, 17, 18, 19, 20, 21, 22,\n",
        "            23, 24, 25, 26, 27, 28, 29,\n",
        "            30, 31, 32, 33, 34, 35, 36, -1, -2]\n",
        "  \n",
        "  \n",
        "  \n",
        "    #for i in range(t):\n",
        "   # print((random.choice(possib)))\n",
        "  \n",
        "  print(black)\n",
        "roulette_colors(37)"
      ],
      "metadata": {
        "id": "c8T3vZZYshha",
        "outputId": "f87d177f-9d1e-4bfd-b464-f2816529e14c",
        "colab": {
          "base_uri": "https://localhost:8080/",
          "height": 322
        }
      },
      "execution_count": 79,
      "outputs": [
        {
          "output_type": "error",
          "ename": "NameError",
          "evalue": "ignored",
          "traceback": [
            "\u001b[0;31m---------------------------------------------------------------------------\u001b[0m",
            "\u001b[0;31mNameError\u001b[0m                                 Traceback (most recent call last)",
            "\u001b[0;32m<ipython-input-79-e1bce22b86f4>\u001b[0m in \u001b[0;36m<module>\u001b[0;34m()\u001b[0m\n\u001b[1;32m     14\u001b[0m \u001b[0;34m\u001b[0m\u001b[0m\n\u001b[1;32m     15\u001b[0m   \u001b[0mprint\u001b[0m\u001b[0;34m(\u001b[0m\u001b[0mblack\u001b[0m\u001b[0;34m)\u001b[0m\u001b[0;34m\u001b[0m\u001b[0;34m\u001b[0m\u001b[0m\n\u001b[0;32m---> 16\u001b[0;31m \u001b[0mroulette_colors\u001b[0m\u001b[0;34m(\u001b[0m\u001b[0;36m37\u001b[0m\u001b[0;34m)\u001b[0m\u001b[0;34m\u001b[0m\u001b[0;34m\u001b[0m\u001b[0m\n\u001b[0m",
            "\u001b[0;32m<ipython-input-79-e1bce22b86f4>\u001b[0m in \u001b[0;36mroulette_colors\u001b[0;34m(t)\u001b[0m\n\u001b[1;32m      9\u001b[0m             \u001b[0;36m23\u001b[0m\u001b[0;34m,\u001b[0m \u001b[0;36m24\u001b[0m\u001b[0;34m,\u001b[0m \u001b[0;36m25\u001b[0m\u001b[0;34m,\u001b[0m \u001b[0;36m26\u001b[0m\u001b[0;34m,\u001b[0m \u001b[0;36m27\u001b[0m\u001b[0;34m,\u001b[0m \u001b[0;36m28\u001b[0m\u001b[0;34m,\u001b[0m \u001b[0;36m29\u001b[0m\u001b[0;34m,\u001b[0m\u001b[0;34m\u001b[0m\u001b[0;34m\u001b[0m\u001b[0m\n\u001b[1;32m     10\u001b[0m             30, 31, 32, 33, 34, 35, 36, -1, -2]\n\u001b[0;32m---> 11\u001b[0;31m   \u001b[0mblack\u001b[0m \u001b[0;34m=\u001b[0m \u001b[0;34m[\u001b[0m\u001b[0mi\u001b[0m \u001b[0;32mfor\u001b[0m \u001b[0mi\u001b[0m \u001b[0;32min\u001b[0m \u001b[0mpossib\u001b[0m \u001b[0;32mand\u001b[0m \u001b[0mi\u001b[0m \u001b[0;32mnot\u001b[0m \u001b[0;32min\u001b[0m \u001b[0mred\u001b[0m \u001b[0;32mand\u001b[0m \u001b[0;32mnot\u001b[0m \u001b[0;34m-\u001b[0m\u001b[0;36m1\u001b[0m \u001b[0;32mor\u001b[0m \u001b[0;34m-\u001b[0m\u001b[0;36m2\u001b[0m\u001b[0;34m]\u001b[0m\u001b[0;34m\u001b[0m\u001b[0;34m\u001b[0m\u001b[0m\n\u001b[0m\u001b[1;32m     12\u001b[0m   \u001b[0;31m#for i in range(t):\u001b[0m\u001b[0;34m\u001b[0m\u001b[0;34m\u001b[0m\u001b[0;34m\u001b[0m\u001b[0m\n\u001b[1;32m     13\u001b[0m    \u001b[0;31m# print((random.choice(possib)))\u001b[0m\u001b[0;34m\u001b[0m\u001b[0;34m\u001b[0m\u001b[0;34m\u001b[0m\u001b[0m\n",
            "\u001b[0;31mNameError\u001b[0m: name 'i' is not defined"
          ]
        }
      ]
    },
    {
      "cell_type": "code",
      "source": [
        "def lots(l, z):\n",
        "  x = (list(range(l,z)))\n",
        "  print(x)\n",
        "lots(0,37)"
      ],
      "metadata": {
        "colab": {
          "base_uri": "https://localhost:8080/"
        },
        "id": "r70bWHJRshjl",
        "outputId": "da21a270-dc1f-418d-9d2b-be44c93da656"
      },
      "execution_count": 75,
      "outputs": [
        {
          "output_type": "stream",
          "name": "stdout",
          "text": [
            "[0, 1, 2, 3, 4, 5, 6, 7, 8, 9, 10, 11, 12, 13, 14, 15, 16, 17, 18, 19, 20, 21, 22, 23, 24, 25, 26, 27, 28, 29, 30, 31, 32, 33, 34, 35, 36]\n"
          ]
        }
      ]
    },
    {
      "cell_type": "code",
      "source": [
        "import requests\n",
        "\n",
        "link = \"https://qph.cf2.quoracdn.net/main-qimg-de1b69212b18a79f2e7ab68ce5a2e6f1\"\n",
        "requests.get(link)\n",
        "\n"
      ],
      "metadata": {
        "id": "aYzYgF98x7AM",
        "outputId": "f1c60208-d314-4250-f776-dda655015547",
        "colab": {
          "base_uri": "https://localhost:8080/"
        }
      },
      "execution_count": 74,
      "outputs": [
        {
          "output_type": "execute_result",
          "data": {
            "text/plain": [
              "<Response [200]>"
            ]
          },
          "metadata": {},
          "execution_count": 74
        }
      ]
    },
    {
      "cell_type": "code",
      "source": [
        ""
      ],
      "metadata": {
        "id": "CGZ8NtLCx7Fi"
      },
      "execution_count": 47,
      "outputs": []
    },
    {
      "cell_type": "code",
      "source": [
        ""
      ],
      "metadata": {
        "id": "w7dLAM9fx7Hx"
      },
      "execution_count": 47,
      "outputs": []
    },
    {
      "cell_type": "code",
      "source": [
        ""
      ],
      "metadata": {
        "id": "H0k0Mdeax7Js"
      },
      "execution_count": null,
      "outputs": []
    }
  ],
  "metadata": {
    "colab": {
      "collapsed_sections": [],
      "name": "Markdown Guide",
      "provenance": [],
      "include_colab_link": true
    },
    "kernelspec": {
      "display_name": "Python 3",
      "name": "python3"
    }
  },
  "nbformat": 4,
  "nbformat_minor": 0
}