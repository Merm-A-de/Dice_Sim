{
  "nbformat": 4,
  "nbformat_minor": 0,
  "metadata": {
    "colab": {
      "name": "Dice_Sim.ipynb",
      "provenance": [],
      "authorship_tag": "ABX9TyNiBCmCQO4XiAY9mbmC+SQO",
      "include_colab_link": true
    },
    "kernelspec": {
      "name": "python3",
      "display_name": "Python 3"
    },
    "language_info": {
      "name": "python"
    }
  },
  "cells": [
    {
      "cell_type": "markdown",
      "metadata": {
        "id": "view-in-github",
        "colab_type": "text"
      },
      "source": [
        "<a href=\"https://colab.research.google.com/github/Merm-A-de/Dice_Sim/blob/main/Dice_Sim.ipynb\" target=\"_parent\"><img src=\"https://colab.research.google.com/assets/colab-badge.svg\" alt=\"Open In Colab\"/></a>"
      ]
    },
    {
      "cell_type": "markdown",
      "source": [
        "#**Dice Rolling Simulation** <br>\n",
        "##[Angelo Mermigis](https://www.linkedin.com/in/angelo-mermigis-03a152163/) <br>\n",
        "##[GH](https://github.com/Merm-A-de/Dice_Sim/blob/main/Dice_Sim.ipynb) <br>\n",
        "##12.18.21 <br>\n",
        "![dice.jpeg](data:image/jpeg;base64,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)"
      ],
      "metadata": {
        "id": "uVc3AEisKLeV"
      }
    },
    {
      "cell_type": "markdown",
      "source": [
        "**Imports**"
      ],
      "metadata": {
        "id": "zDH3V1UhSLmo"
      }
    },
    {
      "cell_type": "code",
      "execution_count": 8,
      "metadata": {
        "id": "WdKrWjpdidS2"
      },
      "outputs": [],
      "source": [
        "import pandas as pd\n",
        "import matplotlib.pyplot as plt\n",
        "import numpy as np\n",
        "import random \n"
      ]
    },
    {
      "cell_type": "markdown",
      "source": [
        "**Create Basic Two Die Roll Function**"
      ],
      "metadata": {
        "id": "yeZ_hE0iSSJc"
      }
    },
    {
      "cell_type": "code",
      "source": [
        "# See Total of Dice Roll for 10k rolls\n",
        "\n",
        "def roll():\n",
        "  seth = [1,2,3,4,5,6]\n",
        "\n",
        "  first = int(random.choice(seth))\n",
        "  second = int(random.choice(seth))\n",
        "\n",
        "  total = first + second\n",
        "\n",
        "  return total\n",
        "\n",
        "\n",
        "roll()\n",
        "\n"
      ],
      "metadata": {
        "colab": {
          "base_uri": "https://localhost:8080/"
        },
        "id": "6dFr2WiAzjnd",
        "outputId": "ea28c387-f9cb-40d4-e078-d173903da1bf"
      },
      "execution_count": 9,
      "outputs": [
        {
          "output_type": "execute_result",
          "data": {
            "text/plain": [
              "8"
            ]
          },
          "metadata": {},
          "execution_count": 9
        }
      ]
    },
    {
      "cell_type": "markdown",
      "source": [
        "**Create Large Dice Sim** <br>\n",
        "Variable Rolls (Choice) <br>\n",
        "Results to Distribution (Graph)"
      ],
      "metadata": {
        "id": "1mvdlBTjTMns"
      }
    },
    {
      "cell_type": "code",
      "source": [
        "def roll_Sim_Graph(x):\n",
        "  \n",
        "  s2 = 0\n",
        "  s3 = 0\n",
        "  s4 = 0\n",
        "  s5 = 0\n",
        "  s6 = 0\n",
        "  s7 = 0\n",
        "  s8 = 0\n",
        "  s9 = 0\n",
        "  s10 = 0\n",
        "  s11 = 0\n",
        "  s12 = 0\n",
        "\n",
        "  totals = []\n",
        "\n",
        "  for i in range(x):\n",
        "    totals.append(roll())\n",
        "    \n",
        "  for l in totals:\n",
        "    if l == 2:\n",
        "      s2 += 1\n",
        " \n",
        "    if l == 3:\n",
        "      s3 += 1\n",
        " \n",
        "    if l == 4:\n",
        "      s4 += 1\n",
        " \n",
        "    if l == 5:\n",
        "      s5 += 1\n",
        " \n",
        "    if l == 6:\n",
        "      s6 += 1\n",
        " \n",
        "    if l == 7:\n",
        "      s7 += 1\n",
        " \n",
        "    if l == 8:\n",
        "      s8 += 1\n",
        " \n",
        "    if l == 9:\n",
        "      s9 += 1\n",
        "\n",
        "    if l == 10:\n",
        "      s10 += 1\n",
        " \n",
        "    if l == 11:\n",
        "      s11 += 1\n",
        " \n",
        "    if l == 12:\n",
        "      s12 += 1\n",
        " \n",
        "\n",
        "  under = s2 + s3 + s4 + s5 + s6\n",
        "  over = s7 + s8 + s9 + s10 + s11 + s12\n",
        "\n",
        "\n",
        "\n",
        " # return s2, s3, s4, s5, s6, s7, s8, s9, s10, s11, s12, (under, over)\n",
        " \n",
        "  #print(\"Outcomes:\\n\\n\")\n",
        "\n",
        "  #print(\"2:\", s2)\n",
        "  #print(\"3:\", s3)\n",
        "  #print(\"4:\", s4)\n",
        "  #print(\"5:\", s5)\n",
        "  #print(\"6:\", s6)\n",
        "  #print(\"7:\", s7)\n",
        "  #print(\"8:\", s8)\n",
        "  #print(\"9:\", s9)\n",
        "  #print(\"10:\", s10)\n",
        "  #print(\"11:\", s11)\n",
        "  #print(\"12:\", s12)\n",
        "\n",
        "  labels = [2,3,4,5,6,7,8,9,10,11,12]\n",
        "  roll_totals = [s2, s3, s4, s5, s6, s7, s8, s9, s10, s11, s12]\n",
        "\n",
        "  plt.plot(labels, roll_totals,\"g+\",)\n",
        "\n",
        "roll_Sim_Graph(100000)"
      ],
      "metadata": {
        "colab": {
          "base_uri": "https://localhost:8080/",
          "height": 266
        },
        "id": "jhWEtL09zjqH",
        "outputId": "baebcafb-5624-4f8d-dd4a-a3bdbd19009d"
      },
      "execution_count": 10,
      "outputs": [
        {
          "output_type": "display_data",
          "data": {
            "image/png": "[encoded data removed]",
            "text/plain": [
              "<Figure size 432x288 with 1 Axes>"
            ]
          },
          "metadata": {
            "needs_background": "light"
          }
        }
      ]
    },
    {
      "cell_type": "markdown",
      "source": [
        "**Create Large Dice Sim** <br>\n",
        "Variable Rolls (Choice) <br>\n",
        "Results to List\n",
        "\n",
        "Includes O/U (6.5) [Over ~58.3%] <br>\n",
        "Guts = 5, 6, 7, 8 [ ~55.5%]\n"
      ],
      "metadata": {
        "id": "Ck6C4ugVUYgj"
      }
    },
    {
      "cell_type": "code",
      "source": [
        "def roll_Sim(x):\n",
        "  \n",
        "  s2 = 0\n",
        "  s3 = 0\n",
        "  s4 = 0\n",
        "  s5 = 0\n",
        "  s6 = 0\n",
        "  s7 = 0\n",
        "  s8 = 0\n",
        "  s9 = 0\n",
        "  s10 = 0\n",
        "  s11 = 0\n",
        "  s12 = 0\n",
        "\n",
        "  totals = []\n",
        "\n",
        "  for i in range(x):\n",
        "    totals.append(roll())\n",
        "    \n",
        "  for l in totals:\n",
        "    if l == 2:\n",
        "      s2 += 1\n",
        " \n",
        "    if l == 3:\n",
        "      s3 += 1\n",
        " \n",
        "    if l == 4:\n",
        "      s4 += 1\n",
        " \n",
        "    if l == 5:\n",
        "      s5 += 1\n",
        " \n",
        "    if l == 6:\n",
        "      s6 += 1\n",
        " \n",
        "    if l == 7:\n",
        "      s7 += 1\n",
        " \n",
        "    if l == 8:\n",
        "      s8 += 1\n",
        " \n",
        "    if l == 9:\n",
        "      s9 += 1\n",
        "\n",
        "    if l == 10:\n",
        "      s10 += 1\n",
        " \n",
        "    if l == 11:\n",
        "      s11 += 1\n",
        " \n",
        "    if l == 12:\n",
        "      s12 += 1\n",
        " \n",
        "\n",
        "  under = s2 + s3 + s4 + s5 + s6\n",
        "  over = s7 + s8 + s9 + s10 + s11 + s12\n",
        "\n",
        "  guts = s5 + s6 + s7 + s8\n",
        "\n",
        "\n",
        "  return s2, s3, s4, s5, s6, s7, s8, s9, s10, s11, s12, (under, over), guts\n",
        " \n",
        "  #print(\"Outcomes:\\n\\n\")\n",
        "\n",
        "  #print(\"2:\", s2)\n",
        "  #print(\"3:\", s3)\n",
        "  #print(\"4:\", s4)\n",
        "  #print(\"5:\", s5)\n",
        "  #print(\"6:\", s6)\n",
        "  #print(\"7:\", s7)\n",
        "  #print(\"8:\", s8)\n",
        "  #print(\"9:\", s9)\n",
        "  #print(\"10:\", s10)\n",
        "  #print(\"11:\", s11)\n",
        "  #print(\"12:\", s12)\n",
        "\n",
        "  labels = [2,3,4,5,6,7,8,9,10,11,12]\n",
        "  roll_totals = [s2, s3, s4, s5, s6, s7, s8, s9, s10, s11, s12]\n",
        "\n",
        "roll_Sim(100000)"
      ],
      "metadata": {
        "colab": {
          "base_uri": "https://localhost:8080/"
        },
        "id": "DSsr8mfiHQ1K",
        "outputId": "f9f313cd-188b-4f4c-a796-a0c54f298f1b"
      },
      "execution_count": 30,
      "outputs": [
        {
          "output_type": "execute_result",
          "data": {
            "text/plain": [
              "(2751,\n",
              " 5557,\n",
              " 8388,\n",
              " 11065,\n",
              " 13773,\n",
              " 16746,\n",
              " 13979,\n",
              " 10958,\n",
              " 8376,\n",
              " 5628,\n",
              " 2779,\n",
              " (41534, 58466),\n",
              " 55563)"
            ]
          },
          "metadata": {},
          "execution_count": 30
        }
      ]
    },
    {
      "cell_type": "markdown",
      "source": [
        "**Create Large Dice Sim** <br>\n",
        "Variable Rolls (Choice) <br>\n",
        "Results to Pandas DataFrame\n"
      ],
      "metadata": {
        "id": "b7he6kZiVbce"
      }
    },
    {
      "cell_type": "code",
      "source": [
        "def roll_Sim_DF(x):\n",
        "  \n",
        "  s2 = 0\n",
        "  s3 = 0\n",
        "  s4 = 0\n",
        "  s5 = 0\n",
        "  s6 = 0\n",
        "  s7 = 0\n",
        "  s8 = 0\n",
        "  s9 = 0\n",
        "  s10 = 0\n",
        "  s11 = 0\n",
        "  s12 = 0\n",
        "\n",
        "  totals = []\n",
        "\n",
        "  for i in range(x):\n",
        "    totals.append(roll())\n",
        "    \n",
        "  for l in totals:\n",
        "    if l == 2:\n",
        "      s2 += 1\n",
        " \n",
        "    if l == 3:\n",
        "      s3 += 1\n",
        " \n",
        "    if l == 4:\n",
        "      s4 += 1\n",
        " \n",
        "    if l == 5:\n",
        "      s5 += 1\n",
        " \n",
        "    if l == 6:\n",
        "      s6 += 1\n",
        " \n",
        "    if l == 7:\n",
        "      s7 += 1\n",
        " \n",
        "    if l == 8:\n",
        "      s8 += 1\n",
        " \n",
        "    if l == 9:\n",
        "      s9 += 1\n",
        "\n",
        "    if l == 10:\n",
        "      s10 += 1\n",
        " \n",
        "    if l == 11:\n",
        "      s11 += 1\n",
        " \n",
        "    if l == 12:\n",
        "      s12 += 1\n",
        " \n",
        "\n",
        "  under = s2 + s3 + s4 + s5 + s6\n",
        "  over = s7 + s8 + s9 + s10 + s11 + s12\n",
        "\n",
        "  guts = s5 + s6 + s7 + s8\n",
        "\n",
        "#  return s2, s3, s4, s5, s6, s7, s8, s9, s10, s11, s12, (under, over)\n",
        " \n",
        "  #print(\"Outcomes:\\n\\n\")\n",
        "\n",
        "  #print(\"2:\", s2)\n",
        "  #print(\"3:\", s3)\n",
        "  #print(\"4:\", s4)\n",
        "  #print(\"5:\", s5)\n",
        "  #print(\"6:\", s6)\n",
        "  #print(\"7:\", s7)\n",
        "  #print(\"8:\", s8)\n",
        "  #print(\"9:\", s9)\n",
        "  #print(\"10:\", s10)\n",
        "  #print(\"11:\", s11)\n",
        "  #print(\"12:\", s12)\n",
        "\n",
        "  labels = [2,3,4,5,6,7,8,9,10,11,12]\n",
        "  roll_totals = [s2, s3, s4, s5, s6, s7, s8, s9, s10, s11, s12]\n",
        "\n",
        "  s = pd.DataFrame(roll_totals, labels)\n",
        "\n",
        "  print(s)\n",
        "\n",
        "roll_Sim_DF(100000)"
      ],
      "metadata": {
        "colab": {
          "base_uri": "https://localhost:8080/"
        },
        "id": "K9ZhTxSa9s5s",
        "outputId": "0db016b8-43b0-4d15-9900-4cf304178f55"
      },
      "execution_count": 36,
      "outputs": [
        {
          "output_type": "stream",
          "name": "stdout",
          "text": [
            "        0\n",
            "2    2761\n",
            "3    5555\n",
            "4    8192\n",
            "5   11191\n",
            "6   13960\n",
            "7   16641\n",
            "8   13903\n",
            "9   11242\n",
            "10   8288\n",
            "11   5500\n",
            "12   2767\n"
          ]
        }
      ]
    }
  ]
}