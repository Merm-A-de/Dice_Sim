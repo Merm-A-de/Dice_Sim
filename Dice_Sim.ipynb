{
  "nbformat": 4,
  "nbformat_minor": 0,
  "metadata": {
    "colab": {
      "name": "Dice_Sim.ipynb",
      "provenance": [],
      "authorship_tag": "ABX9TyMZL8ayCeRUAM0khcBcEGY3",
      "include_colab_link": true
    },
    "kernelspec": {
      "name": "python3",
      "display_name": "Python 3"
    },
    "language_info": {
      "name": "python"
    }
  },
  "cells": [
    {
      "cell_type": "markdown",
      "metadata": {
        "id": "view-in-github",
        "colab_type": "text"
      },
      "source": [
        "<a href=\"https://colab.research.google.com/github/Merm-A-de/Dice_Sim/blob/main/Dice_Sim.ipynb\" target=\"_parent\"><img src=\"https://colab.research.google.com/assets/colab-badge.svg\" alt=\"Open In Colab\"/></a>"
      ]
    },
    {
      "cell_type": "markdown",
      "source": [
        "#Dice Rolling Simulation <br>\n",
        "[Angelo Mermigis](https://) << - - Insert LinkedIn <br>\n",
        "[GH](https://) << - - Insert Github <br>\n",
        "12.18.21"
      ],
      "metadata": {
        "id": "uVc3AEisKLeV"
      }
    },
    {
      "cell_type": "code",
      "source": [
        ""
      ],
      "metadata": {
        "id": "LtBG2JsOLPi_"
      },
      "execution_count": null,
      "outputs": []
    },
    {
      "cell_type": "code",
      "source": [
        ""
      ],
      "metadata": {
        "id": "aCPEMrOaLAnX"
      },
      "execution_count": null,
      "outputs": []
    },
    {
      "cell_type": "code",
      "source": [
        ""
      ],
      "metadata": {
        "id": "0HNvAiMvKqLh"
      },
      "execution_count": null,
      "outputs": []
    },
    {
      "cell_type": "code",
      "execution_count": 1,
      "metadata": {
        "id": "WdKrWjpdidS2"
      },
      "outputs": [],
      "source": [
        "import pandas as pd\n",
        "import matplotlib.pyplot as plt\n",
        "import numpy as np\n",
        "import random \n"
      ]
    },
    {
      "cell_type": "code",
      "source": [
        "# See Total of Dice Roll for 10k rolls\n",
        "\n",
        "def roll():\n",
        "  seth = [1,2,3,4,5,6]\n",
        "\n",
        "  first = int(random.choice(seth))\n",
        "  second = int(random.choice(seth))\n",
        "\n",
        "  total = first + second\n",
        "\n",
        "  return total\n",
        "\n",
        "\n",
        "roll()\n",
        "\n"
      ],
      "metadata": {
        "colab": {
          "base_uri": "https://localhost:8080/"
        },
        "id": "6dFr2WiAzjnd",
        "outputId": "c155cf71-97af-418f-e603-c0d1a0909864"
      },
      "execution_count": 7,
      "outputs": [
        {
          "output_type": "execute_result",
          "data": {
            "text/plain": [
              "7"
            ]
          },
          "metadata": {},
          "execution_count": 7
        }
      ]
    },
    {
      "cell_type": "code",
      "source": [
        "def roll_Sim_Graph(x):\n",
        "  \n",
        "  s2 = 0\n",
        "  s3 = 0\n",
        "  s4 = 0\n",
        "  s5 = 0\n",
        "  s6 = 0\n",
        "  s7 = 0\n",
        "  s8 = 0\n",
        "  s9 = 0\n",
        "  s10 = 0\n",
        "  s11 = 0\n",
        "  s12 = 0\n",
        "\n",
        "  totals = []\n",
        "\n",
        "  for i in range(x):\n",
        "    totals.append(roll())\n",
        "    \n",
        "  for l in totals:\n",
        "    if l == 2:\n",
        "      s2 += 1\n",
        " \n",
        "    if l == 3:\n",
        "      s3 += 1\n",
        " \n",
        "    if l == 4:\n",
        "      s4 += 1\n",
        " \n",
        "    if l == 5:\n",
        "      s5 += 1\n",
        " \n",
        "    if l == 6:\n",
        "      s6 += 1\n",
        " \n",
        "    if l == 7:\n",
        "      s7 += 1\n",
        " \n",
        "    if l == 8:\n",
        "      s8 += 1\n",
        " \n",
        "    if l == 9:\n",
        "      s9 += 1\n",
        "\n",
        "    if l == 10:\n",
        "      s10 += 1\n",
        " \n",
        "    if l == 11:\n",
        "      s11 += 1\n",
        " \n",
        "    if l == 12:\n",
        "      s12 += 1\n",
        " \n",
        "\n",
        "  under = s2 + s3 + s4 + s5 + s6\n",
        "  over = s7 + s8 + s9 + s10 + s11 + s12\n",
        "\n",
        "\n",
        "\n",
        " # return s2, s3, s4, s5, s6, s7, s8, s9, s10, s11, s12, (under, over)\n",
        " \n",
        "  #print(\"Outcomes:\\n\\n\")\n",
        "\n",
        "  #print(\"2:\", s2)\n",
        "  #print(\"3:\", s3)\n",
        "  #print(\"4:\", s4)\n",
        "  #print(\"5:\", s5)\n",
        "  #print(\"6:\", s6)\n",
        "  #print(\"7:\", s7)\n",
        "  #print(\"8:\", s8)\n",
        "  #print(\"9:\", s9)\n",
        "  #print(\"10:\", s10)\n",
        "  #print(\"11:\", s11)\n",
        "  #print(\"12:\", s12)\n",
        "\n",
        "  labels = [2,3,4,5,6,7,8,9,10,11,12]\n",
        "  roll_totals = [s2, s3, s4, s5, s6, s7, s8, s9, s10, s11, s12]\n",
        "\n",
        "  plt.plot(labels, roll_totals,\"g+\",)\n",
        "\n",
        "roll_Sim_Graph(100000)"
      ],
      "metadata": {
        "colab": {
          "base_uri": "https://localhost:8080/",
          "height": 266
        },
        "id": "jhWEtL09zjqH",
        "outputId": "a0ca7f60-a52f-41b1-a387-fdb8a361416a"
      },
      "execution_count": null,
      "outputs": [
        {
          "output_type": "display_data",
          "data": {
            "image/png": "[encoded data removed]",
            "text/plain": [
              "<Figure size 432x288 with 1 Axes>"
            ]
          },
          "metadata": {
            "needs_background": "light"
          }
        }
      ]
    },
    {
      "cell_type": "code",
      "source": [
        "def roll_Sim(x):\n",
        "  \n",
        "  s2 = 0\n",
        "  s3 = 0\n",
        "  s4 = 0\n",
        "  s5 = 0\n",
        "  s6 = 0\n",
        "  s7 = 0\n",
        "  s8 = 0\n",
        "  s9 = 0\n",
        "  s10 = 0\n",
        "  s11 = 0\n",
        "  s12 = 0\n",
        "\n",
        "  totals = []\n",
        "\n",
        "  for i in range(x):\n",
        "    totals.append(roll())\n",
        "    \n",
        "  for l in totals:\n",
        "    if l == 2:\n",
        "      s2 += 1\n",
        " \n",
        "    if l == 3:\n",
        "      s3 += 1\n",
        " \n",
        "    if l == 4:\n",
        "      s4 += 1\n",
        " \n",
        "    if l == 5:\n",
        "      s5 += 1\n",
        " \n",
        "    if l == 6:\n",
        "      s6 += 1\n",
        " \n",
        "    if l == 7:\n",
        "      s7 += 1\n",
        " \n",
        "    if l == 8:\n",
        "      s8 += 1\n",
        " \n",
        "    if l == 9:\n",
        "      s9 += 1\n",
        "\n",
        "    if l == 10:\n",
        "      s10 += 1\n",
        " \n",
        "    if l == 11:\n",
        "      s11 += 1\n",
        " \n",
        "    if l == 12:\n",
        "      s12 += 1\n",
        " \n",
        "\n",
        "  under = s2 + s3 + s4 + s5 + s6\n",
        "  over = s7 + s8 + s9 + s10 + s11 + s12\n",
        "\n",
        "\n",
        "\n",
        "  return s2, s3, s4, s5, s6, s7, s8, s9, s10, s11, s12, (under, over)\n",
        " \n",
        "  #print(\"Outcomes:\\n\\n\")\n",
        "\n",
        "  #print(\"2:\", s2)\n",
        "  #print(\"3:\", s3)\n",
        "  #print(\"4:\", s4)\n",
        "  #print(\"5:\", s5)\n",
        "  #print(\"6:\", s6)\n",
        "  #print(\"7:\", s7)\n",
        "  #print(\"8:\", s8)\n",
        "  #print(\"9:\", s9)\n",
        "  #print(\"10:\", s10)\n",
        "  #print(\"11:\", s11)\n",
        "  #print(\"12:\", s12)\n",
        "\n",
        "  labels = [2,3,4,5,6,7,8,9,10,11,12]\n",
        "  roll_totals = [s2, s3, s4, s5, s6, s7, s8, s9, s10, s11, s12]\n",
        "\n",
        "roll_Sim(100000)"
      ],
      "metadata": {
        "colab": {
          "base_uri": "https://localhost:8080/"
        },
        "id": "DSsr8mfiHQ1K",
        "outputId": "3dc9251f-316e-460a-bc3b-a456f7dfd20b"
      },
      "execution_count": null,
      "outputs": [
        {
          "output_type": "execute_result",
          "data": {
            "text/plain": [
              "(2814,\n",
              " 5581,\n",
              " 8281,\n",
              " 11152,\n",
              " 13871,\n",
              " 16605,\n",
              " 14074,\n",
              " 11134,\n",
              " 8210,\n",
              " 5557,\n",
              " 2721,\n",
              " (41699, 58301))"
            ]
          },
          "metadata": {},
          "execution_count": 244
        }
      ]
    },
    {
      "cell_type": "code",
      "source": [
        "def roll_Sim_DF(x):\n",
        "  \n",
        "  s2 = 0\n",
        "  s3 = 0\n",
        "  s4 = 0\n",
        "  s5 = 0\n",
        "  s6 = 0\n",
        "  s7 = 0\n",
        "  s8 = 0\n",
        "  s9 = 0\n",
        "  s10 = 0\n",
        "  s11 = 0\n",
        "  s12 = 0\n",
        "\n",
        "  totals = []\n",
        "\n",
        "  for i in range(x):\n",
        "    totals.append(roll())\n",
        "    \n",
        "  for l in totals:\n",
        "    if l == 2:\n",
        "      s2 += 1\n",
        " \n",
        "    if l == 3:\n",
        "      s3 += 1\n",
        " \n",
        "    if l == 4:\n",
        "      s4 += 1\n",
        " \n",
        "    if l == 5:\n",
        "      s5 += 1\n",
        " \n",
        "    if l == 6:\n",
        "      s6 += 1\n",
        " \n",
        "    if l == 7:\n",
        "      s7 += 1\n",
        " \n",
        "    if l == 8:\n",
        "      s8 += 1\n",
        " \n",
        "    if l == 9:\n",
        "      s9 += 1\n",
        "\n",
        "    if l == 10:\n",
        "      s10 += 1\n",
        " \n",
        "    if l == 11:\n",
        "      s11 += 1\n",
        " \n",
        "    if l == 12:\n",
        "      s12 += 1\n",
        " \n",
        "\n",
        "  under = s2 + s3 + s4 + s5 + s6\n",
        "  over = s7 + s8 + s9 + s10 + s11 + s12\n",
        "\n",
        "  guts = s5 + s6 + s7 + s8\n",
        "\n",
        "#  return s2, s3, s4, s5, s6, s7, s8, s9, s10, s11, s12, (under, over)\n",
        " \n",
        "  #print(\"Outcomes:\\n\\n\")\n",
        "\n",
        "  #print(\"2:\", s2)\n",
        "  #print(\"3:\", s3)\n",
        "  #print(\"4:\", s4)\n",
        "  #print(\"5:\", s5)\n",
        "  #print(\"6:\", s6)\n",
        "  #print(\"7:\", s7)\n",
        "  #print(\"8:\", s8)\n",
        "  #print(\"9:\", s9)\n",
        "  #print(\"10:\", s10)\n",
        "  #print(\"11:\", s11)\n",
        "  #print(\"12:\", s12)\n",
        "\n",
        "  labels = [2,3,4,5,6,7,8,9,10,11,12]\n",
        "  roll_totals = [s2, s3, s4, s5, s6, s7, s8, s9, s10, s11, s12]\n",
        "\n",
        "  s = pd.DataFrame(roll_totals, labels)\n",
        "\n",
        "  print(s, guts)\n",
        "\n",
        "roll_Sim_DF(100000)"
      ],
      "metadata": {
        "colab": {
          "base_uri": "https://localhost:8080/"
        },
        "id": "K9ZhTxSa9s5s",
        "outputId": "368b7a2b-a281-4424-d3d0-0f6f9c9cb88f"
      },
      "execution_count": null,
      "outputs": [
        {
          "output_type": "stream",
          "name": "stdout",
          "text": [
            "        0\n",
            "2    2877\n",
            "3    5431\n",
            "4    8326\n",
            "5   11227\n",
            "6   13861\n",
            "7   16391\n",
            "8   14083\n",
            "9   11132\n",
            "10   8302\n",
            "11   5556\n",
            "12   2814 55562\n"
          ]
        }
      ]
    },
    {
      "cell_type": "code",
      "source": [
        ""
      ],
      "metadata": {
        "id": "727uPkIoH7u1"
      },
      "execution_count": null,
      "outputs": []
    },
    {
      "cell_type": "code",
      "source": [
        ""
      ],
      "metadata": {
        "colab": {
          "base_uri": "https://localhost:8080/",
          "height": 158
        },
        "id": "1_yKR90f84tl",
        "outputId": "58a4018b-cf2f-4c02-e38e-a2453dc6db51"
      },
      "execution_count": null,
      "outputs": [
        {
          "output_type": "error",
          "ename": "NameError",
          "evalue": "ignored",
          "traceback": [
            "\u001b[0;31m---------------------------------------------------------------------------\u001b[0m",
            "\u001b[0;31mNameError\u001b[0m                                 Traceback (most recent call last)",
            "\u001b[0;32m<ipython-input-234-f51cca268f5d>\u001b[0m in \u001b[0;36m<module>\u001b[0;34m()\u001b[0m\n\u001b[0;32m----> 1\u001b[0;31m \u001b[0mpd\u001b[0m\u001b[0;34m.\u001b[0m\u001b[0marray\u001b[0m\u001b[0;34m(\u001b[0m\u001b[0mlabels\u001b[0m\u001b[0;34m,\u001b[0m\u001b[0mroll_totals\u001b[0m\u001b[0;34m)\u001b[0m\u001b[0;34m\u001b[0m\u001b[0;34m\u001b[0m\u001b[0m\n\u001b[0m",
            "\u001b[0;31mNameError\u001b[0m: name 'labels' is not defined"
          ]
        }
      ]
    },
    {
      "cell_type": "code",
      "source": [
        ""
      ],
      "metadata": {
        "id": "IuPdS79e3r0c"
      },
      "execution_count": null,
      "outputs": []
    },
    {
      "cell_type": "code",
      "source": [
        ""
      ],
      "metadata": {
        "id": "V-vWYgxPzjt6"
      },
      "execution_count": null,
      "outputs": []
    }
  ]
}